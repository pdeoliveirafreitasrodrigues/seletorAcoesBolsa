{
 "cells": [
  {
   "cell_type": "code",
   "execution_count": null,
   "metadata": {},
   "outputs": [],
   "source": [
    "%pip install pandas-datareader\n",
    "%pip install pandas\n",
    "%pip install yfinance"
   ]
  },
  {
   "cell_type": "code",
   "execution_count": null,
   "metadata": {},
   "outputs": [],
   "source": [
    "\n",
    "import pandas as pd\n",
    "from pandas_datareader import data as web\n",
    "import matplotlib.pyplot as fig\n",
    "import datetime as dt\n",
    "from datetime import datetime\n",
    "import numpy as np"
   ]
  },
  {
   "cell_type": "markdown",
   "metadata": {},
   "source": [
    "RECEBENDO DADOS DO USUÁRIO"
   ]
  },
  {
   "cell_type": "code",
   "execution_count": null,
   "metadata": {},
   "outputs": [],
   "source": [
    "\n",
    "data_user = input(\"Informe a partir de qual data deseja buscar os dados (dd/mm/aaaa)\")\n",
    "data_inicio = datetime.strptime(data_user, '%d/%m/%Y').date()\n",
    "data_fim = dt.date.today()\n",
    "\n",
    "ver = False\n",
    "while ver == False :\n",
    "    ativos = input(\"Informe no mínimo 4 ativos separados por vírgula para que a análise seja concluída.\")\n",
    "    lista_ativos = ativos.split(',')\n",
    "\n",
    "    if len(lista_ativos) > 3:\n",
    "        \"\"\"print(data_inicio)\n",
    "        print(data_fim)\"\"\"\n",
    "        print(lista_ativos)\n",
    "        ver = True\n",
    "    else:\n",
    "        print(\"Por favor insira no mínimo 4 ativos\")\n"
   ]
  },
  {
   "cell_type": "markdown",
   "metadata": {},
   "source": [
    "BUSCANDO DADOS NO YAHOO FINANCE"
   ]
  },
  {
   "cell_type": "code",
   "execution_count": null,
   "metadata": {},
   "outputs": [],
   "source": [
    "df = web.DataReader(lista_ativos,'yahoo', data_inicio, data_fim)\n",
    "tabela_ativos = pd.DataFrame(round(df['Close'],2))\n",
    "#tabela_ativos = tabela_ativos.dropna()\n",
    "tabela_ativos"
   ]
  },
  {
   "cell_type": "markdown",
   "metadata": {},
   "source": [
    "CALCULANDO VARIAÇÃO E DESVIO PADRÃO"
   ]
  },
  {
   "cell_type": "code",
   "execution_count": null,
   "metadata": {},
   "outputs": [],
   "source": [
    "variancia = np.var(tabela_ativos)\n",
    "desvio_padrao = np.std(tabela_ativos)\n",
    "\n",
    "#print(str(round(variancia,2)))\n",
    "#print(str(round(desvio_padrao,2)))\n",
    "\n",
    "tabela_variancia = pd.DataFrame({'variancia': round(variancia,2)})\n",
    "tabela_variancia = tabela_variancia.sort_values(by='variancia')\n",
    "tabela_variancia = tabela_variancia.head(3)\n",
    "tabela_variancia_ativos = pd.DataFrame(tabela_variancia.index)\n",
    "\n",
    "tabela_ativos = tabela_ativos.loc[:,tabela_variancia_ativos['Symbols']] \n",
    "tabela_ativos\n"
   ]
  },
  {
   "cell_type": "markdown",
   "metadata": {},
   "source": [
    "    RISCO VERSUS RETORNO DA CARTEIRA"
   ]
  },
  {
   "cell_type": "code",
   "execution_count": 91,
   "metadata": {},
   "outputs": [
    {
     "data": {
      "text/plain": [
       "Text(0.5, 1.0, 'Retorno esperado vs Risco esperado')"
      ]
     },
     "execution_count": 91,
     "metadata": {},
     "output_type": "execute_result"
    },
    {
     "data": {
      "image/png": "[encoded data removed]",
      "text/plain": [
       "<Figure size 432x288 with 1 Axes>"
      ]
     },
     "metadata": {
      "needs_background": "light"
     },
     "output_type": "display_data"
    }
   ],
   "source": [
    "retorno_diario = tabela_ativos/tabela_ativos.shift(1)-1\n",
    "retorno_medio = retorno_diario.mean()\n",
    "sigma = retorno_diario.cov()\n",
    "\n",
    "\"\"\"pesos_alocacao_dinheiro = np.array([0.10,0.80,0.10])\n",
    "\n",
    "retorno_carteira = np.sum(pesos_alocacao_dinheiro*retorno_medio)\n",
    "risco = np.sqrt(np.dot(pesos_alocacao_dinheiro.T, np.dot(sigma, pesos_alocacao_dinheiro)))\n",
    "\n",
    "print(\"Retorno esperado: \", str(round(100*retorno_carteira,2)) + \" %\")\n",
    "print(\"Risco da carteira: \", str(round(100*risco,2)) + \" %\")\"\"\"\n",
    "\n",
    "vetor_retorno = []\n",
    "vetor_volatidade = []\n",
    "\n",
    "for i in range(200):\n",
    "    pesos_alocacao_dinheiro = np.random.random(len(tabela_variancia_ativos['Symbols']))\n",
    "    pesos_alocacao_dinheiro = pesos_alocacao_dinheiro/np.sum(pesos_alocacao_dinheiro)\n",
    "    \n",
    "    retorno_carteira = np.sum(pesos_alocacao_dinheiro*retorno_medio)\n",
    "    risco = np.sqrt(np.dot(pesos_alocacao_dinheiro.T, np.dot(sigma, pesos_alocacao_dinheiro)))\n",
    "\n",
    "    vetor_retorno.append(retorno_carteira)\n",
    "    vetor_volatidade.append(risco)\n",
    "\n",
    "fig.plot(vetor_volatidade,vetor_retorno,'ok')\n",
    "fig.grid\n",
    "fig.xlabel('RISCO ESPERADO')\n",
    "fig.ylabel('RETORNO ESPERADO')\n",
    "fig.title('Retorno esperado vs Risco esperado')\n"
   ]
  }
 ],
 "metadata": {
  "kernelspec": {
   "display_name": "Python 3.9.12 ('base')",
   "language": "python",
   "name": "python3"
  },
  "language_info": {
   "codemirror_mode": {
    "name": "ipython",
    "version": 3
   },
   "file_extension": ".py",
   "mimetype": "text/x-python",
   "name": "python",
   "nbconvert_exporter": "python",
   "pygments_lexer": "ipython3",
   "version": "3.9.12"
  },
  "orig_nbformat": 4,
  "vscode": {
   "interpreter": {
    "hash": "bc8b1b8fe7b234c9478bb7d526cfcc218455d7fb2566a7d15d2240721011009e"
   }
  }
 },
 "nbformat": 4,
 "nbformat_minor": 2
}
