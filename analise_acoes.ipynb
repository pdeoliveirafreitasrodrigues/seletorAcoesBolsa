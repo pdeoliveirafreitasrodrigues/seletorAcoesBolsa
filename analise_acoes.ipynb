{
 "cells": [
  {
   "cell_type": "code",
   "execution_count": 2,
   "metadata": {},
   "outputs": [
    {
     "name": "stdout",
     "output_type": "stream",
     "text": [
      "Requirement already satisfied: pandas-datareader in d:\\arquivos de programas\\anaconda\\lib\\site-packages (0.10.0)\n",
      "Requirement already satisfied: pandas>=0.23 in d:\\arquivos de programas\\anaconda\\lib\\site-packages (from pandas-datareader) (1.4.2)\n",
      "Requirement already satisfied: requests>=2.19.0 in d:\\arquivos de programas\\anaconda\\lib\\site-packages (from pandas-datareader) (2.27.1)\n",
      "Requirement already satisfied: lxml in d:\\arquivos de programas\\anaconda\\lib\\site-packages (from pandas-datareader) (4.8.0)\n",
      "Requirement already satisfied: pytz>=2020.1 in d:\\arquivos de programas\\anaconda\\lib\\site-packages (from pandas>=0.23->pandas-datareader) (2021.3)\n",
      "Requirement already satisfied: python-dateutil>=2.8.1 in d:\\arquivos de programas\\anaconda\\lib\\site-packages (from pandas>=0.23->pandas-datareader) (2.8.2)\n",
      "Requirement already satisfied: numpy>=1.18.5 in d:\\arquivos de programas\\anaconda\\lib\\site-packages (from pandas>=0.23->pandas-datareader) (1.21.5)\n",
      "Requirement already satisfied: six>=1.5 in d:\\arquivos de programas\\anaconda\\lib\\site-packages (from python-dateutil>=2.8.1->pandas>=0.23->pandas-datareader) (1.16.0)\n",
      "Requirement already satisfied: urllib3<1.27,>=1.21.1 in d:\\arquivos de programas\\anaconda\\lib\\site-packages (from requests>=2.19.0->pandas-datareader) (1.26.9)\n",
      "Requirement already satisfied: certifi>=2017.4.17 in d:\\arquivos de programas\\anaconda\\lib\\site-packages (from requests>=2.19.0->pandas-datareader) (2021.10.8)\n",
      "Requirement already satisfied: charset-normalizer~=2.0.0 in d:\\arquivos de programas\\anaconda\\lib\\site-packages (from requests>=2.19.0->pandas-datareader) (2.0.4)\n",
      "Requirement already satisfied: idna<4,>=2.5 in d:\\arquivos de programas\\anaconda\\lib\\site-packages (from requests>=2.19.0->pandas-datareader) (3.3)\n",
      "Note: you may need to restart the kernel to use updated packages.\n",
      "Requirement already satisfied: yfinance in d:\\arquivos de programas\\anaconda\\lib\\site-packages (0.1.74)\n",
      "Requirement already satisfied: requests>=2.26 in d:\\arquivos de programas\\anaconda\\lib\\site-packages (from yfinance) (2.27.1)\n",
      "Requirement already satisfied: lxml>=4.5.1 in d:\\arquivos de programas\\anaconda\\lib\\site-packages (from yfinance) (4.8.0)\n",
      "Requirement already satisfied: numpy>=1.15 in d:\\arquivos de programas\\anaconda\\lib\\site-packages (from yfinance) (1.21.5)\n",
      "Requirement already satisfied: multitasking>=0.0.7 in d:\\arquivos de programas\\anaconda\\lib\\site-packages (from yfinance) (0.0.11)\n",
      "Requirement already satisfied: pandas>=0.24.0 in d:\\arquivos de programas\\anaconda\\lib\\site-packages (from yfinance) (1.4.2)\n",
      "Requirement already satisfied: pytz>=2020.1 in d:\\arquivos de programas\\anaconda\\lib\\site-packages (from pandas>=0.24.0->yfinance) (2021.3)\n",
      "Requirement already satisfied: python-dateutil>=2.8.1 in d:\\arquivos de programas\\anaconda\\lib\\site-packages (from pandas>=0.24.0->yfinance) (2.8.2)\n",
      "Requirement already satisfied: six>=1.5 in d:\\arquivos de programas\\anaconda\\lib\\site-packages (from python-dateutil>=2.8.1->pandas>=0.24.0->yfinance) (1.16.0)\n",
      "Requirement already satisfied: certifi>=2017.4.17 in d:\\arquivos de programas\\anaconda\\lib\\site-packages (from requests>=2.26->yfinance) (2021.10.8)\n",
      "Requirement already satisfied: idna<4,>=2.5 in d:\\arquivos de programas\\anaconda\\lib\\site-packages (from requests>=2.26->yfinance) (3.3)\n",
      "Requirement already satisfied: charset-normalizer~=2.0.0 in d:\\arquivos de programas\\anaconda\\lib\\site-packages (from requests>=2.26->yfinance) (2.0.4)\n",
      "Requirement already satisfied: urllib3<1.27,>=1.21.1 in d:\\arquivos de programas\\anaconda\\lib\\site-packages (from requests>=2.26->yfinance) (1.26.9)\n",
      "Note: you may need to restart the kernel to use updated packages.\n"
     ]
    }
   ],
   "source": [
    "%pip install pandas-datareader\n",
    "%pip instal pandas\n",
    "%pip install yfinance"
   ]
  },
  {
   "cell_type": "code",
   "execution_count": 21,
   "metadata": {},
   "outputs": [],
   "source": [
    "\n",
    "import pandas as pd\n",
    "from pandas_datareader import data as web\n",
    "import matplotlib.pyplot as fig\n",
    "import datetime as dt\n",
    "from datetime import datetime\n",
    "import numpy as np"
   ]
  },
  {
   "cell_type": "markdown",
   "metadata": {},
   "source": [
    "RECEBENDO DADOS DO USUÁRIO"
   ]
  },
  {
   "cell_type": "code",
   "execution_count": 12,
   "metadata": {},
   "outputs": [],
   "source": [
    "\n",
    "data_user = input(\"Informe a partir de qual data deseja buscar os dados (dd/mm/aaaa)\")\n",
    "data_inicio = datetime.strptime(data_user, '%d/%m/%Y').date()\n",
    "data_fim = dt.date.today()\n",
    "\n",
    "ver = False\n",
    "while ver == False :\n",
    "    ativos = input(\"Informe no mínimo 4 ativos separados por vírgula para que a análise seja concluída.\")\n",
    "    lista_ativos = ativos.split(',')\n",
    "\n",
    "    if len(lista_ativos) > 3:\n",
    "        \"\"\"print(data_inicio)\n",
    "        print(data_fim)\"\"\"\n",
    "        print(lista_ativos)\n",
    "        ver = True\n",
    "    else:\n",
    "        print(\"Por favor insira no mínimo 4 ativos\")\n"
   ]
  },
  {
   "cell_type": "markdown",
   "metadata": {},
   "source": [
    "BUSCANDO DADOS NO YAHOO FINANCE"
   ]
  },
  {
   "cell_type": "code",
   "execution_count": 29,
   "metadata": {},
   "outputs": [
    {
     "data": {
      "text/html": [
       "<div>\n",
       "<style scoped>\n",
       "    .dataframe tbody tr th:only-of-type {\n",
       "        vertical-align: middle;\n",
       "    }\n",
       "\n",
       "    .dataframe tbody tr th {\n",
       "        vertical-align: top;\n",
       "    }\n",
       "\n",
       "    .dataframe thead th {\n",
       "        text-align: right;\n",
       "    }\n",
       "</style>\n",
       "<table border=\"1\" class=\"dataframe\">\n",
       "  <thead>\n",
       "    <tr style=\"text-align: right;\">\n",
       "      <th>Symbols</th>\n",
       "      <th>PETR4.SA</th>\n",
       "      <th>LI</th>\n",
       "      <th>OPEN</th>\n",
       "      <th>PROK</th>\n",
       "    </tr>\n",
       "    <tr>\n",
       "      <th>Date</th>\n",
       "      <th></th>\n",
       "      <th></th>\n",
       "      <th></th>\n",
       "      <th></th>\n",
       "    </tr>\n",
       "  </thead>\n",
       "  <tbody>\n",
       "    <tr>\n",
       "      <th>2021-09-27</th>\n",
       "      <td>27.14</td>\n",
       "      <td>26.91</td>\n",
       "      <td>21.00</td>\n",
       "      <td>9.82</td>\n",
       "    </tr>\n",
       "    <tr>\n",
       "      <th>2021-09-28</th>\n",
       "      <td>26.96</td>\n",
       "      <td>26.13</td>\n",
       "      <td>20.05</td>\n",
       "      <td>9.76</td>\n",
       "    </tr>\n",
       "    <tr>\n",
       "      <th>2021-09-29</th>\n",
       "      <td>27.39</td>\n",
       "      <td>25.73</td>\n",
       "      <td>19.96</td>\n",
       "      <td>9.77</td>\n",
       "    </tr>\n",
       "    <tr>\n",
       "      <th>2021-09-30</th>\n",
       "      <td>27.23</td>\n",
       "      <td>26.29</td>\n",
       "      <td>20.53</td>\n",
       "      <td>9.80</td>\n",
       "    </tr>\n",
       "    <tr>\n",
       "      <th>2021-10-01</th>\n",
       "      <td>28.00</td>\n",
       "      <td>26.29</td>\n",
       "      <td>20.54</td>\n",
       "      <td>9.87</td>\n",
       "    </tr>\n",
       "    <tr>\n",
       "      <th>...</th>\n",
       "      <td>...</td>\n",
       "      <td>...</td>\n",
       "      <td>...</td>\n",
       "      <td>...</td>\n",
       "    </tr>\n",
       "    <tr>\n",
       "      <th>2022-09-19</th>\n",
       "      <td>31.27</td>\n",
       "      <td>25.23</td>\n",
       "      <td>3.88</td>\n",
       "      <td>10.32</td>\n",
       "    </tr>\n",
       "    <tr>\n",
       "      <th>2022-09-20</th>\n",
       "      <td>31.09</td>\n",
       "      <td>25.34</td>\n",
       "      <td>3.56</td>\n",
       "      <td>9.73</td>\n",
       "    </tr>\n",
       "    <tr>\n",
       "      <th>2022-09-21</th>\n",
       "      <td>31.17</td>\n",
       "      <td>23.10</td>\n",
       "      <td>3.25</td>\n",
       "      <td>8.69</td>\n",
       "    </tr>\n",
       "    <tr>\n",
       "      <th>2022-09-22</th>\n",
       "      <td>31.94</td>\n",
       "      <td>24.23</td>\n",
       "      <td>3.04</td>\n",
       "      <td>8.87</td>\n",
       "    </tr>\n",
       "    <tr>\n",
       "      <th>2022-09-23</th>\n",
       "      <td>29.94</td>\n",
       "      <td>25.00</td>\n",
       "      <td>3.19</td>\n",
       "      <td>9.20</td>\n",
       "    </tr>\n",
       "  </tbody>\n",
       "</table>\n",
       "<p>258 rows × 4 columns</p>\n",
       "</div>"
      ],
      "text/plain": [
       "Symbols     PETR4.SA     LI   OPEN   PROK\n",
       "Date                                     \n",
       "2021-09-27     27.14  26.91  21.00   9.82\n",
       "2021-09-28     26.96  26.13  20.05   9.76\n",
       "2021-09-29     27.39  25.73  19.96   9.77\n",
       "2021-09-30     27.23  26.29  20.53   9.80\n",
       "2021-10-01     28.00  26.29  20.54   9.87\n",
       "...              ...    ...    ...    ...\n",
       "2022-09-19     31.27  25.23   3.88  10.32\n",
       "2022-09-20     31.09  25.34   3.56   9.73\n",
       "2022-09-21     31.17  23.10   3.25   8.69\n",
       "2022-09-22     31.94  24.23   3.04   8.87\n",
       "2022-09-23     29.94  25.00   3.19   9.20\n",
       "\n",
       "[258 rows x 4 columns]"
      ]
     },
     "execution_count": 29,
     "metadata": {},
     "output_type": "execute_result"
    }
   ],
   "source": [
    "df = web.DataReader(lista_ativos,'yahoo', data_inicio, data_fim)\n",
    "tabela_ativos = pd.DataFrame(round(df['Close'],2))\n",
    "\n",
    "tabela_ativos"
   ]
  },
  {
   "cell_type": "markdown",
   "metadata": {},
   "source": [
    "    RISCO VERSUS RETORNO DA CARTEIRA"
   ]
  },
  {
   "cell_type": "code",
   "execution_count": 37,
   "metadata": {},
   "outputs": [
    {
     "name": "stdout",
     "output_type": "stream",
     "text": [
      "Retorno esperado:  0.25 %\n",
      "Risco da carteira:  3.58 %\n"
     ]
    }
   ],
   "source": [
    "retorno_diario = tabela_ativos/tabela_ativos.shift(1)-1\n",
    "retorno_medio = retorno_diario.mean()\n",
    "sigma = retorno_diario.cov()\n",
    "\n",
    "pesos_alocacao_dinheiro = np.array([0.00,0.00,0.00,1.00])\n",
    "\n",
    "retorno_carteira = np.sum(pesos_alocacao_dinheiro*retorno_medio)\n",
    "risco = np.sqrt(np.dot(pesos_alocacao_dinheiro.T, np.dot(sigma, pesos_alocacao_dinheiro)))\n",
    "\n",
    "print(\"Retorno esperado: \", str(round(100*retorno_carteira,2)) + \" %\")\n",
    "print(\"Risco da carteira: \", str(round(100*risco,2)) + \" %\")"
   ]
  }
 ],
 "metadata": {
  "kernelspec": {
   "display_name": "Python 3.9.12 ('base')",
   "language": "python",
   "name": "python3"
  },
  "language_info": {
   "codemirror_mode": {
    "name": "ipython",
    "version": 3
   },
   "file_extension": ".py",
   "mimetype": "text/x-python",
   "name": "python",
   "nbconvert_exporter": "python",
   "pygments_lexer": "ipython3",
   "version": "3.9.12"
  },
  "orig_nbformat": 4,
  "vscode": {
   "interpreter": {
    "hash": "bc8b1b8fe7b234c9478bb7d526cfcc218455d7fb2566a7d15d2240721011009e"
   }
  }
 },
 "nbformat": 4,
 "nbformat_minor": 2
}
