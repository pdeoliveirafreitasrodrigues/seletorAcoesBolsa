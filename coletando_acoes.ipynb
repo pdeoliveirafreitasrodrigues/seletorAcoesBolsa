{
 "cells": [
  {
   "cell_type": "code",
   "execution_count": null,
   "metadata": {},
   "outputs": [],
   "source": [
    "pip install pandas-datareader"
   ]
  },
  {
   "cell_type": "code",
   "execution_count": null,
   "metadata": {},
   "outputs": [],
   "source": [
    "import pandas as pd \n",
    "from pandas_datareader import data as web\n",
    "import matplotlib.pyplot as plt"
   ]
  },
  {
   "cell_type": "code",
   "execution_count": null,
   "metadata": {},
   "outputs": [],
   "source": [
    "df = web.DataReader(f'ITUB3.SA', data_source='yahoo',start=f'01-01-2022', end='06-01-2022')\n",
    "display(df)\n",
    "#df[\"Adj Close\"].plot(figsize=(15,10))\n",
    "#plt.show()"
   ]
  }
 ],
 "metadata": {
  "kernelspec": {
   "display_name": "Python 3.10.6 64-bit (windows store)",
   "language": "python",
   "name": "python3"
  },
  "language_info": {
   "name": "python",
   "version": "3.10.6"
  },
  "orig_nbformat": 4,
  "vscode": {
   "interpreter": {
    "hash": "ae17ed8ece302a0c6a5088ee71bf53256dbd6ee331ae2fa0a8a81b1308c40880"
   }
  }
 },
 "nbformat": 4,
 "nbformat_minor": 2
}
